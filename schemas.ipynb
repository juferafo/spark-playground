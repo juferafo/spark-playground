{
 "cells": [
  {
   "cell_type": "code",
   "execution_count": 10,
   "metadata": {},
   "outputs": [],
   "source": [
    "from pyspark.sql import SparkSession\n",
    "from pyspark.sql.types import *\n",
    "\n",
    "spark = SparkSession.builder.getOrCreate()"
   ]
  },
  {
   "cell_type": "code",
   "execution_count": 14,
   "metadata": {},
   "outputs": [],
   "source": [
    "\"\"\"\n",
    "There are two ways to define a schema in Spark:\n",
    "    1. Programatically\n",
    "    2. DDL\n",
    "\"\"\"\n",
    "\n",
    "# 1. Programatically\n",
    "schema1 = StructType([\\\n",
    "    StructField(\"author\", StringType(), False),\n",
    "    StructField(\"title\", StringType(), False),\n",
    "    StructField(\"pages\", IntegerType(), False)\\\n",
    "    ])\n",
    "\n",
    "# 2. DDL\n",
    "schema2 = \"author STRING, title STRING, pages INT\""
   ]
  },
  {
   "cell_type": "code",
   "execution_count": 16,
   "metadata": {},
   "outputs": [],
   "source": [
    "data = [[1, \"Jules\", \"Damji\", \"https://tinyurl.1\", \"1/4/2016\", 4535, [\"twitter\", \"LinkedIn\"]],\n",
    "        [2, \"Brooke\",\"Wenig\", \"https://tinyurl.2\", \"5/5/2018\", 8908, [\"twitter\", \"LinkedIn\"]],\n",
    "        [3, \"Denny\", \"Lee\", \"https://tinyurl.3\", \"6/7/2019\", 7659, [\"web\", \"twitter\", \"FB\", \"LinkedIn\"]],\n",
    "        [4, \"Tathagata\", \"Das\", \"https://tinyurl.4\", \"5/12/2018\", 10568, [\"twitter\", \"FB\"]],\n",
    "        [5, \"Matei\",\"Zaharia\", \"https://tinyurl.5\", \"5/14/2014\", 40578, [\"web\", \"twitter\", \"FB\", \"LinkedIn\"]],\n",
    "        [6, \"Reynold\", \"Xin\", \"https://tinyurl.6\", \"3/2/2015\", 25568, [\"twitter\", \"LinkedIn\"]]]\n",
    "\n",
    "data_schema = \"`Id` INT, `First` STRING, `Last` STRING, `Url` STRING, `Published` STRING, `Hits` INT, `Campaigns` ARRAY<STRING>\"\n",
    "data_df = spark.createDataFrame(data, schema = data_schema)"
   ]
  },
  {
   "cell_type": "code",
   "execution_count": 27,
   "metadata": {},
   "outputs": [
    {
     "data": {
      "text/plain": [
       "StructType(List(StructField(Id,IntegerType,false),StructField(First_name,StringType,false),StructField(Last_name,StringType,false),StructField(web,StringType,false),StructField(web,StringType,false),StructField(Hits,IntegerType,false),StructField(Campaigns,ArrayType(StringType,false),false)))"
      ]
     },
     "execution_count": 27,
     "metadata": {},
     "output_type": "execute_result"
    }
   ],
   "source": [
    "data_schema2 = StructType([\\\n",
    "    StructField(\"Id\", IntegerType(), False),\n",
    "    StructField(\"First_name\", StringType(), False),\n",
    "    StructField(\"Last_name\", StringType(), False),\n",
    "    StructField(\"web\", StringType(), False),\n",
    "    StructField(\"web\", StringType(), False),\n",
    "    StructField(\"Hits\", IntegerType(), False),\n",
    "    StructField(\"Campaigns\", ArrayType(StringType(), False), False),\n",
    "    ])\n",
    "\n",
    "data_df = spark.createDataFrame(data, schema = data_schema2)\n",
    "data_df.schema"
   ]
  },
  {
   "cell_type": "code",
   "execution_count": 28,
   "metadata": {},
   "outputs": [
    {
     "name": "stdout",
     "output_type": "stream",
     "text": [
      "+---+----------+---------+-----------------+---------+-----+--------------------+\n",
      "| Id|First_name|Last_name|              web|      web| Hits|           Campaigns|\n",
      "+---+----------+---------+-----------------+---------+-----+--------------------+\n",
      "|  1|     Jules|    Damji|https://tinyurl.1| 1/4/2016| 4535| [twitter, LinkedIn]|\n",
      "|  2|    Brooke|    Wenig|https://tinyurl.2| 5/5/2018| 8908| [twitter, LinkedIn]|\n",
      "|  3|     Denny|      Lee|https://tinyurl.3| 6/7/2019| 7659|[web, twitter, FB...|\n",
      "|  4| Tathagata|      Das|https://tinyurl.4|5/12/2018|10568|       [twitter, FB]|\n",
      "|  5|     Matei|  Zaharia|https://tinyurl.5|5/14/2014|40578|[web, twitter, FB...|\n",
      "|  6|   Reynold|      Xin|https://tinyurl.6| 3/2/2015|25568| [twitter, LinkedIn]|\n",
      "+---+----------+---------+-----------------+---------+-----+--------------------+\n",
      "\n"
     ]
    }
   ],
   "source": [
    "# show\n",
    "data_df.show()"
   ]
  },
  {
   "cell_type": "code",
   "execution_count": 29,
   "metadata": {},
   "outputs": [
    {
     "name": "stdout",
     "output_type": "stream",
     "text": [
      "root\n",
      " |-- Id: integer (nullable = false)\n",
      " |-- First_name: string (nullable = false)\n",
      " |-- Last_name: string (nullable = false)\n",
      " |-- web: string (nullable = false)\n",
      " |-- web: string (nullable = false)\n",
      " |-- Hits: integer (nullable = false)\n",
      " |-- Campaigns: array (nullable = false)\n",
      " |    |-- element: string (containsNull = false)\n",
      "\n"
     ]
    }
   ],
   "source": [
    "# show schema\n",
    "data_df.printSchema()"
   ]
  },
  {
   "cell_type": "code",
   "execution_count": 38,
   "metadata": {},
   "outputs": [],
   "source": [
    "from pyspark.sql import *\n",
    "from pyspark.sql.functions import *"
   ]
  },
  {
   "cell_type": "code",
   "execution_count": 71,
   "metadata": {},
   "outputs": [],
   "source": [
    "data_schema2 = StructType([\\\n",
    "    StructField(\"Id\", IntegerType(), False),\n",
    "    StructField(\"First_name\", StringType(), False),\n",
    "    StructField(\"Last_name\", StringType(), False),\n",
    "    StructField(\"web\", StringType(), False),\n",
    "    StructField(\"web\", StringType(), False),\n",
    "    StructField(\"Hits\", IntegerType(), False),\n",
    "    StructField(\"Campaigns\", ArrayType(StringType(), False), False),\n",
    "    ])\n",
    "\n",
    "data_df = spark.createDataFrame(data, schema = data_schema2)"
   ]
  },
  {
   "cell_type": "code",
   "execution_count": 55,
   "metadata": {},
   "outputs": [
    {
     "name": "stdout",
     "output_type": "stream",
     "text": [
      "+---+----------+---------+-----------------+---------+-----+--------------------+---------+\n",
      "| Id|First_name|Last_name|              web|      web| Hits|           Campaigns|double_Id|\n",
      "+---+----------+---------+-----------------+---------+-----+--------------------+---------+\n",
      "|  1|     Jules|    Damji|https://tinyurl.1| 1/4/2016| 4535| [twitter, LinkedIn]|    false|\n",
      "|  2|    Brooke|    Wenig|https://tinyurl.2| 5/5/2018| 8908| [twitter, LinkedIn]|    false|\n",
      "|  3|     Denny|      Lee|https://tinyurl.3| 6/7/2019| 7659|[web, twitter, FB...|     true|\n",
      "|  4| Tathagata|      Das|https://tinyurl.4|5/12/2018|10568|       [twitter, FB]|     true|\n",
      "|  5|     Matei|  Zaharia|https://tinyurl.5|5/14/2014|40578|[web, twitter, FB...|     true|\n",
      "|  6|   Reynold|      Xin|https://tinyurl.6| 3/2/2015|25568| [twitter, LinkedIn]|     true|\n",
      "+---+----------+---------+-----------------+---------+-----+--------------------+---------+\n",
      "\n"
     ]
    }
   ],
   "source": [
    "# Operations over columns\n",
    "\n",
    "# Use an expression to compute big hitters for blogs\n",
    "# This adds a new column, Big Hitters, based on the conditional expression\n",
    "\n",
    "#Concatenate three columns, create a new column, and show the\n",
    "# newly created concatenated column"
   ]
  },
  {
   "cell_type": "code",
   "execution_count": 86,
   "metadata": {},
   "outputs": [],
   "source": [
    "blog_row = [Row(6, \"Reynold\")]\n",
    "data_schema = \"`Id` INT, `First` STRING\"\n",
    "d = spark.createDataFrame(blog_row, schema=data_schema)"
   ]
  },
  {
   "cell_type": "code",
   "execution_count": 87,
   "metadata": {},
   "outputs": [
    {
     "name": "stdout",
     "output_type": "stream",
     "text": [
      "+---+-------+\n",
      "| Id|  First|\n",
      "+---+-------+\n",
      "|  6|Reynold|\n",
      "+---+-------+\n",
      "\n"
     ]
    }
   ],
   "source": [
    "d.show()"
   ]
  },
  {
   "cell_type": "code",
   "execution_count": null,
   "metadata": {},
   "outputs": [],
   "source": []
  }
 ],
 "metadata": {
  "kernelspec": {
   "display_name": "Python 3",
   "language": "python",
   "name": "python3"
  },
  "language_info": {
   "codemirror_mode": {
    "name": "ipython",
    "version": 3
   },
   "file_extension": ".py",
   "mimetype": "text/x-python",
   "name": "python",
   "nbconvert_exporter": "python",
   "pygments_lexer": "ipython3",
   "version": "3.8.5"
  }
 },
 "nbformat": 4,
 "nbformat_minor": 4
}
